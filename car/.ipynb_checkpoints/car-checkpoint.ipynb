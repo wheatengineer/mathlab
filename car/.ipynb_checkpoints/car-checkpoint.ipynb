{
 "cells": [
  {
   "cell_type": "markdown",
   "metadata": {},
   "source": [
    "# Projekt car"
   ]
  },
  {
   "cell_type": "markdown",
   "metadata": {},
   "source": [
    "## 1 Lernziele\n",
    "Die Studierenden lernen\n",
    "- Grafikbefehle anzuwenden\n",
    "- Schaubilder von Funktionen und parametrisierten Kurven zu erstellen\n",
    "- Vektoren und Matrizen zu erzeugen und damit zu rechnen\n",
    "- Lineare Gleichungssysteme zu lösen\n",
    "- Interpolationspolynome durch vorgegebene Punkte zu ermitteln\n",
    "- Transformationsmatrizen in der Ebene anzuwenden"
   ]
  },
  {
   "cell_type": "markdown",
   "metadata": {},
   "source": [
    "## 2 Bibliotheken\n",
    "Eines der Grundkonzepte von Python ist die Verwendung spezieller Bibliotheken für spezielle Aufgaben.\n",
    "Für Berechnungen mit Vektoren und Matrizen wird meistens die Bibliothek `numpy` verwendet und für Grafiken die Bibliothek `matplotlib`.\n",
    "Die Bibliothek `numpy` und das API `pyplot` der `matplotlib` orientieren sich an der Syntax von Matlab.\n",
    "Für `pyplot` ist die Abkürzung `plt` und für `numpy` die Abkürzung `np` üblich."
   ]
  },
  {
   "cell_type": "code",
   "execution_count": null,
   "metadata": {},
   "outputs": [],
   "source": [
    "import numpy as np\n",
    "import matplotlib.pyplot as plt"
   ]
  },
  {
   "cell_type": "markdown",
   "metadata": {},
   "source": [
    "Die Funktion `IFrame()` wird zum Anzeigen von Grafiken aus Dateien verwendet."
   ]
  },
  {
   "cell_type": "code",
   "execution_count": null,
   "metadata": {},
   "outputs": [],
   "source": [
    "from IPython.display import IFrame"
   ]
  },
  {
   "cell_type": "markdown",
   "metadata": {},
   "source": [
    "## 3 Aufgabenstellung\n",
    "Die abgebildete Grafik soll erstellt werden."
   ]
  },
  {
   "cell_type": "code",
   "execution_count": null,
   "metadata": {},
   "outputs": [],
   "source": [
    "IFrame('car5.png', width=600, height=330)"
   ]
  },
  {
   "cell_type": "markdown",
   "metadata": {},
   "source": [
    "## 4 Vorgehensweise\n",
    "Die Vorgehensweise kann in den folgenden Schritten erfolgen:\n",
    "- Grafik mit Gitterlinien\n",
    "- Linien für Boden und Heck\n",
    "- Räder\n",
    "- Dach\n",
    "- Profilkurve\n",
    "- Transformation\n",
    "- Animation (optional)"
   ]
  },
  {
   "cell_type": "markdown",
   "metadata": {},
   "source": [
    "### 4.1 Grafik mit Gitterlinien\n",
    "Zunächst werden die Werte für den Bereich der $x$- und $y$-Werte festgelegt.\n",
    "Dabei kann man in Python die Mehrfachzuweisung mit durch Kommata getrennten Elementen verwenden.   "
   ]
  },
  {
   "cell_type": "code",
   "execution_count": null,
   "metadata": {},
   "outputs": [],
   "source": [
    "x_min, x_max, y_min, y_max = -20.0, 20.0, -10.0, 12.0"
   ]
  },
  {
   "cell_type": "markdown",
   "metadata": {},
   "source": [
    "Nun wird ein Fenster vom Typ `figure` und darin ein Achsenkreuz vom Typ `axes` erzeugt.\n",
    "Die Größe des Fensters wird auf den Bereich der $x$- und $y$-Werte angepasst.\n",
    "Mit der Funktion `subplots()` ist es auch möglich, mehrere Achsenkreuze in einem Fenster zu platzieren."
   ]
  },
  {
   "cell_type": "code",
   "execution_count": null,
   "metadata": {},
   "outputs": [],
   "source": [
    "fig, ax = plt.subplots(figsize=((x_max-x_min)/4,(y_max-y_min)/4))"
   ]
  },
  {
   "cell_type": "markdown",
   "metadata": {},
   "source": [
    "Die Funktion `set_aspect('equal')` stellt sicher, dass die Skalierung der $x$- und $y$-Werte im Verhältnis $1:1$ erfolgt.\n",
    "Dadurch werden die Räder später als Kreis und nicht als Ellipse dargestellt."
   ]
  },
  {
   "cell_type": "code",
   "execution_count": null,
   "metadata": {},
   "outputs": [],
   "source": [
    "ax.set_aspect('equal')\n",
    "display(fig)"
   ]
  },
  {
   "cell_type": "markdown",
   "metadata": {},
   "source": [
    "Standardmäßig verläuft der Bereich der $x$- und $y$-Werte zwischen $0.0$ und $1.0$.\n",
    "Er kann durch die Funktion `axis()` angepasst werden.\n",
    "Die Funktion `display()` zeigt das veränderte Fenster an."
   ]
  },
  {
   "cell_type": "code",
   "execution_count": null,
   "metadata": {},
   "outputs": [],
   "source": [
    "ax.axis([x_min,x_max,y_min,y_max])\n",
    "display(fig)"
   ]
  },
  {
   "cell_type": "markdown",
   "metadata": {},
   "source": [
    "Die Beschriftung der Achsen wird durch die Funktionen `set_xticks()` und `set_yticks()` angepasst.\n",
    "Die Zahlenwerte für die Positionen der Achsenbeschriftungen werden durch einen `numpy`-Vektor festgelegt.\n",
    "Die Vektoren werden durch die Funktion `arange()` erzeugt."
   ]
  },
  {
   "cell_type": "markdown",
   "metadata": {},
   "source": [
    "<div class=\"alert alert-block alert-danger\">\n",
    "    \n",
    "<b>Merke</b>\n",
    "    \n",
    "Mit der Funktion `arange(start,stop,step)` aus der Bibliothek `numpy` lassen sich Sequenzen von Zahlen, die bei `start` beginnen, vor `stop` enden und eine Schrittweite `step` besitzen erzeugen.\n",
    "Ähnliche Möglichkeiten bietet die Funktion `linspace(start,stop,num)`.\n",
    "    \n",
    "\n",
    "- https://numpy.org/devdocs/reference/generated/numpy.arange.html\n",
    "- https://numpy.org/devdocs/reference/generated/numpy.linspace.html"
   ]
  },
  {
   "cell_type": "code",
   "execution_count": null,
   "metadata": {},
   "outputs": [],
   "source": [
    "x_ticks = np.arange(x_min,x_max+1,2)\n",
    "print('x_ticks = ',x_ticks)\n",
    "ax.set_xticks(x_ticks)\n",
    "y_ticks = np.arange(y_min,y_max+1,2)\n",
    "print('y_ticks = ',y_ticks)\n",
    "ax.set_yticks(y_ticks)\n",
    "display(fig)"
   ]
  },
  {
   "cell_type": "markdown",
   "metadata": {},
   "source": [
    "Die Gitterlinien können durch die Funktion `grid()` eingeblendet werden."
   ]
  },
  {
   "cell_type": "code",
   "execution_count": null,
   "metadata": {},
   "outputs": [],
   "source": [
    "ax.grid(True)\n",
    "display(fig)"
   ]
  },
  {
   "cell_type": "markdown",
   "metadata": {},
   "source": [
    "Eine bessere optische Wirkung lässt sich erzielen, in dem man zusätzlich zu dem sogenannten `major` Gitter auch noch das sogenannte `minor` Gitter, mit geringeren Farbintensitäten, einblendet. "
   ]
  },
  {
   "cell_type": "code",
   "execution_count": null,
   "metadata": {},
   "outputs": [],
   "source": [
    "ax.set_xticks(np.arange(x_min,x_max+1),minor=True)\n",
    "ax.set_yticks(np.arange(y_min,y_max+1),minor=True)\n",
    "ax.grid(which='minor', alpha=0.1)\n",
    "ax.grid(which='major', alpha=0.5)\n",
    "display(fig)"
   ]
  },
  {
   "cell_type": "markdown",
   "metadata": {},
   "source": [
    "### 4.2 Linien für Boden und Heck"
   ]
  },
  {
   "cell_type": "markdown",
   "metadata": {},
   "source": [
    "<div class=\"alert alert-block alert-info\">\n",
    "    \n",
    "### Aufgabe 1\n",
    "\n",
    "Ergänzen Sie die Grafik durch die Linien für Boden und Heck des Fahrzeugs.   \n",
    "</div>"
   ]
  },
  {
   "cell_type": "code",
   "execution_count": null,
   "metadata": {},
   "outputs": [],
   "source": [
    "IFrame('car1.png', width=600, height=330)"
   ]
  },
  {
   "cell_type": "markdown",
   "metadata": {},
   "source": [
    "<div class=\"alert alert-block alert-danger\">\n",
    "    \n",
    "<b>Merke</b>\n",
    "    \n",
    "Mit der Funktion `plot(x,y,...)` aus der Bibliothek `matplotlib` lassen sich die Punkte mit den $x$- und $y$-Koordinaten grafisch darstellen.\n",
    "Die Punkte werden entweder durch gerade Linien verbunden oder einzeln durch Symbole dargestellt.\n",
    "Unterbrochene Linien lassen sich durch Einfügen von `numpy.nan` erzeugen.\n",
    "\n",
    "- https://matplotlib.org/api/_as_gen/matplotlib.pyplot.plot.html#matplotlib.pyplot.plot\n",
    "    \n",
    "</div>"
   ]
  },
  {
   "cell_type": "code",
   "execution_count": null,
   "metadata": {},
   "outputs": [],
   "source": [
    "BOTTOM_X = np.array([-16, -12, np.nan, -6, 6, np.nan, 12, 16, 15])\n",
    "BOTTOM_Y = np.array([0, 0, np.nan, 0, 0, np.nan, 0, 0, 8])\n",
    "\n",
    "ax.plot(BOTTOM_X, BOTTOM_Y, '-k') #floor\n",
    "\n",
    "display(fig)"
   ]
  },
  {
   "cell_type": "markdown",
   "metadata": {},
   "source": [
    "### 4.3 Räder\n",
    "Die Räder werden durch zwei Kreise mit Radius $r=3$ dargestellt.\n",
    "Ein Kreis um den Ursprung mit Radius $r$ besitzt die mathematische Darstellung\n",
    "\n",
    "$$\n",
    "\t\\mathbf{c}(t) =\n",
    "\t\\left(\n",
    "\t\t\\begin{array}{c}\n",
    "\t\t\tr \\cos (t) \\\\\n",
    "\t\t\tr \\sin (t) \\\\\n",
    "\t\t\\end{array}\n",
    "\t\\right),\n",
    "\t\\quad\n",
    "\tt \\in [0, 2 \\pi].\n",
    "$$\n",
    "\n",
    "Wenn das Intervall $[0, 2 \\pi]$ gleichmäßig in $n$ Abschnitte unterteilt wird\n",
    "\n",
    "$$\n",
    "\tt_0 = 0, \\quad t_1 = \\frac{2 \\pi}{n}, \\quad \\ldots, \\quad t_n = 2 \\pi\n",
    "$$\n",
    "\n",
    "und die entsprechenden Punkte durch gerade Strecken verbunden werden, dann entsteht ein $n$-Eck.\n",
    "Für genügend groß gewähles $n$ wirkt das $n$-Eck in der grafischen Darstellung wie ein Kreis.\n",
    "Zur Darstellung der beiden Räder muss das $n$-Eck entsprechend in $x$-Richtung verschoben werden."
   ]
  },
  {
   "cell_type": "markdown",
   "metadata": {},
   "source": [
    "<div class=\"alert alert-block alert-info\">\n",
    "    \n",
    "### Aufgabe 2\n",
    "\n",
    "Ergänzen Sie die Grafik durch die Rädes des Fahrzeugs.   \n",
    "</div>"
   ]
  },
  {
   "cell_type": "code",
   "execution_count": null,
   "metadata": {},
   "outputs": [],
   "source": [
    "IFrame('car2.png', width=600, height=330)"
   ]
  },
  {
   "cell_type": "code",
   "execution_count": null,
   "metadata": {},
   "outputs": [],
   "source": [
    "wheel=np.linspace(0, 2*np.pi, 50) # creates an array of 20 number evenly spaced between 0 and 2pi\n",
    "\n",
    "x = 3*np.cos(wheel) # see formula above (radius of 3)\n",
    "y = 3*np.sin(wheel)\n",
    "\n",
    "FRONTWHEEL_X = np.array(x-9)\n",
    "FRONTWHEEL_Y = np.array(y)\n",
    "REARWHEEL_X = np.array(x+9)\n",
    "REARWHEEL_Y = np.array(y)\n",
    "\n",
    "ax.plot(FRONTWHEEL_X, FRONTWHEEL_Y, '-k') #front wheel\n",
    "ax.plot(REARWHEEL_X, REARWHEEL_Y, '-k') #back wheel\n",
    "\n",
    "display(fig)"
   ]
  },
  {
   "cell_type": "markdown",
   "metadata": {},
   "source": [
    "### 4.4 Dach\n",
    "Das Dach wird durch eine Parabel, die durch die drei rot markierten Punkte mit den Koordinaten $(-9,5)$, $(0,9)$ und $(12,7)$ geht, beschrieben.\n",
    "Die Parabel kann als Schaubild eines Polynoms vom Grad $2$ in der Form\n",
    "\n",
    "$$\n",
    "\tp(x) = a_0 + a_1 x + a_2 x^2, \\quad x \\in [-9, 12],\n",
    "$$\n",
    "\n",
    "dargestellt werden.\n",
    "Die Koeffizienten $a_0$, $a_1$ und $a_2$ berechnet man mithilfe eines linearen Gleichungssystems.\n",
    "Dazu setzt man die $x$- und $y$-Werte der Punkte in die Gleichung des Polynoms ein und löst das lineare Gleichungssystem in Matrixform:\n",
    "\n",
    "$$\n",
    "\\begin{array}{ccc}\n",
    "\ta_0 + a_1 \\cdot (-9) + a_2 \\cdot (-9)^2 & = & 5 \\\\ \n",
    "\ta_0 + a_1 \\cdot (\\hphantom{-}0) + a_2 \\cdot (\\hphantom{-}0)^2 & = & 9 \\\\ \n",
    "\ta_0 + a_1 \\cdot (\\,12) + a_2 \\cdot (\\,12)^2 & = & 7 \\\\ \n",
    "\\end{array}\n",
    "\\quad \\Longleftrightarrow \\quad\n",
    "\\underbrace{\n",
    "\\left[\n",
    "\t\\begin{array}{ccc}\n",
    "\t\t1 & -9 & (-9)^2 \\\\\n",
    "\t\t1 & \\hphantom{-}0 & (\\hphantom{-}0)^2 \\\\\n",
    "\t\t1 & \\,12 & (\\,12)^2 \\\\\n",
    "\t\\end{array}\n",
    "\\right]\n",
    "}_{\\displaystyle \\mathbf{A}}\n",
    "\\cdot\n",
    "\\underbrace{\n",
    "\\left[\n",
    "\t\\begin{array}{c}\n",
    "\t\ta_0 \\\\\n",
    "\t\ta_1 \\\\\n",
    "\t\ta_2\n",
    "\t\\end{array}\n",
    "\\right]\n",
    "}_{\\displaystyle \\mathbf{a}}\n",
    "=\n",
    "\\underbrace{\n",
    "\\left[\n",
    "\t\\begin{array}{c}\n",
    "\t\t5 \\\\\n",
    "\t\t9 \\\\\n",
    "\t\t7\n",
    "\t\\end{array}\n",
    "\\right]\n",
    "}_{\\displaystyle \\mathbf{y}}\n",
    "$$"
   ]
  },
  {
   "cell_type": "markdown",
   "metadata": {},
   "source": [
    "<div class=\"alert alert-block alert-danger\">\n",
    "    \n",
    "<b>Merke</b>\n",
    "    \n",
    "Informationen zum Lösen linearer Gleichungssysteme mit Python finden Sie in dem Jupyter Notebook `linear_system.ipynb` im Moodle-Kurs Python unter der Rubrik `Examples`. \n",
    "    \n",
    "</div>"
   ]
  },
  {
   "cell_type": "markdown",
   "metadata": {},
   "source": [
    "<div class=\"alert alert-block alert-info\">\n",
    "    \n",
    "### Aufgabe 3\n",
    "\n",
    "Ergänzen Sie die Grafik durch das Dach des Fahrzeugs.   \n",
    "</div>"
   ]
  },
  {
   "cell_type": "code",
   "execution_count": null,
   "metadata": {},
   "outputs": [],
   "source": [
    "IFrame('./car3.png', width=600, height=330)"
   ]
  },
  {
   "cell_type": "code",
   "execution_count": null,
   "metadata": {},
   "outputs": [],
   "source": [
    "A = np.array([[1, -9, np.square(-9)], [1, 0, 0], [1, 12, np.square(12)]]) #see matrix above\n",
    "b = np.array([5, 9, 7]) #see vector above\n",
    "\n",
    "LSG = np.linalg.solve(A,b) #solves the linear equation system\n",
    "\n",
    "x = np.linspace(-9, 12, 50) #50 x values from -9 to 12\n",
    "\n",
    "ROOF_X = np.array(x)\n",
    "ROOF_Y = np.array(LSG[0]+LSG[1]*x+LSG[2]*np.square(x))\n",
    "\n",
    "ax.plot(ROOF_X, ROOF_Y, '-k') #uses the polynomial equation given above to plot the roof\n",
    "\n",
    "ax.plot([-9, 0, 12], [5, 9, 7],'.r') #given points for the red dots\n",
    "\n",
    "display(fig)"
   ]
  },
  {
   "cell_type": "markdown",
   "metadata": {},
   "source": [
    "### 4.5 Profilkurve\n",
    "Die Profilkurve ermittelt man im Prinzip genau gleich wie die Parabel für das Dach.\n",
    "Da die Kurve durch sechs Punkte geht, benötigen wir ein Polynom vom Grad $5$\n",
    "\n",
    "$$\n",
    "\tp(x) = b_0 + b_1 x + b_2 x^2 + b_3 x^3 + b_4 x^4 + b_5 x^5, \\quad x \\in [-16, 15].\n",
    "$$\n",
    "\n",
    "Das lineare Gleichungssystem in Matrixform zur Berechnung der Koeffizienten $b_0$, $b_1$, $b_2$, $b_3$, $b_4$ und $b_5$ lautet dann\n",
    "\n",
    "$$\n",
    "\\underbrace{\n",
    "\\left[\n",
    "\t\\begin{array}{cccccc}\n",
    "\t\t1 & x_1 & x_1^2 & x_1^3 & x_1^4 & x_1^5\\\\\n",
    "\t\t1 & x_2 & x_2^2 & x_2^3 & x_2^4 & x_2^5\\\\\n",
    "\t\t1 & x_3 & x_3^2 & x_3^3 & x_3^4 & x_3^5\\\\\n",
    "\t\t1 & x_4 & x_4^2 & x_4^3 & x_4^4 & x_4^5\\\\\n",
    "\t\t1 & x_5 & x_5^2 & x_5^3 & x_5^4 & x_5^5\\\\\n",
    "\t\t1 & x_6 & x_6^2 & x_6^3 & x_6^4 & x_6^5\\\\\n",
    "\t\\end{array}\n",
    "\\right]\n",
    "}_{\\displaystyle \\mathbf{B}}\n",
    "\\cdot\n",
    "\\underbrace{\n",
    "\\left[\n",
    "\t\\begin{array}{c}\n",
    "\t\tb_0 \\\\\n",
    "\t\tb_1 \\\\\n",
    "\t\tb_2 \\\\\n",
    "\t\tb_3 \\\\\n",
    "\t\tb_4 \\\\\n",
    "\t\tb_5\n",
    "\t\\end{array}\n",
    "\\right]\n",
    "}_{\\displaystyle \\mathbf{b}}\n",
    "=\n",
    "\\underbrace{\n",
    "\\left[\n",
    "\t\\begin{array}{c}\n",
    "\t\t0 \\\\\n",
    "\t\t4 \\\\\n",
    "\t\t5 \\\\\n",
    "\t\t4 \\\\\n",
    "\t\t7 \\\\\n",
    "\t\t8\n",
    "\t\\end{array}\n",
    "\\right]\n",
    "}_{\\displaystyle \\mathbf{y}},\n",
    "$$\n",
    "\n",
    "dabei sind $x_1$, $x_2$, $x_3$, $x_4$, $x_5$ und $x_6$ die $x$-Koordinaten der Punkte $(-16,0)$, $(-12,4)$, $(-9,5)$, $(0,4)$, $(12,7)$ und $(15,8)$. \n",
    "Mithilfe eines Spaltenvektors $\\mathbf{x}$, der alle $x$-Koordinaten enthält, kann die Matrix $\\mathbf{B}$ elegant dargestellt werden:\n",
    "\n",
    "$$\n",
    "\t\\mathbf{x} = \n",
    "\t\\left[\n",
    "\t\\begin{array}{c}\n",
    "\t\tx_1 \\\\\n",
    "\t\tx_2 \\\\\n",
    "\t\tx_3 \\\\\n",
    "\t\tx_4 \\\\\n",
    "\t\tx_5 \\\\\n",
    "\t\tx_6\n",
    "\t\\end{array}\n",
    "\t\\right]\n",
    "\t\\quad \\Longrightarrow \\quad\n",
    "\t\\mathbf{B} = \n",
    "\t\\left[\n",
    "\t\\mathbf{x}^0 \\,  \n",
    "\t\\mathbf{x}^1 \\,\n",
    "\t\\mathbf{x}^2 \\,\n",
    "\t\\mathbf{x}^3 \\,\n",
    "\t\\mathbf{x}^4 \\,\n",
    "\t\\mathbf{x}^5\n",
    "\t\\right].\n",
    "$$"
   ]
  },
  {
   "cell_type": "markdown",
   "metadata": {},
   "source": [
    "<div class=\"alert alert-block alert-info\">\n",
    "    \n",
    "### Aufgabe 4\n",
    "\n",
    "Ergänzen Sie die Grafik durch die Profilkurve des Fahrzeugs.   \n",
    "</div>"
   ]
  },
  {
   "cell_type": "code",
   "execution_count": null,
   "metadata": {},
   "outputs": [],
   "source": [
    "IFrame('car4.png', width=600, height=330)"
   ]
  },
  {
   "cell_type": "code",
   "execution_count": null,
   "metadata": {},
   "outputs": [],
   "source": [
    "#(-16,0), (-12,4), (-9,5), (0,4), (12,7), (15,8)\n",
    "\n",
    "x = np.array([-16, -12, -9, 0, 12, 15]) #vector x\n",
    "y = np.array([0, 4, 5, 4, 7, 8]) \n",
    "\n",
    "BT = np.array([np.power(x,0), np.power(x,1), np.power(x,2), np.power(x,3), np.power(x,4), np.power(x,5)]) #uses the vector x to make fill the matrix seen above\n",
    "\n",
    "B = BT.transpose() #needs to be transposed due to how the matrix calc works \n",
    "\n",
    "b = np.linalg.solve(B,y) \n",
    "\n",
    "xWert = np.linspace(-16, 15, 50) #creates 50 x values from -16 to 15 for the body of the car\n",
    "\n",
    "BODY_X = np.array(xWert)\n",
    "BODY_Y = np.array(b[0]*np.power(xWert, 0)+b[1]*np.power(xWert, 1)+b[2]*np.power(xWert, 2)+b[3]*np.power(xWert, 3)+b[4]*np.power(xWert, 4)+b[5]*np.power(xWert, 5))\n",
    "\n",
    "ax.plot(BODY_X, BODY_Y, '-k') #polynomial equation used for the y coordinates\n",
    "\n",
    "ax.plot(x, y,'.r') #red dots\n",
    "\n",
    "display(fig)"
   ]
  },
  {
   "cell_type": "markdown",
   "metadata": {},
   "source": [
    "### 4.6 Transformation\n",
    "Die rot gestrichelte Grafik entsteht durch eine Rotation der ursprünglichen Grafik um den Winkel $\\alpha=30^0$ im Uhrzeigersinn.\n",
    "Genauer gesagt handelt es sich um eine Rotation um den Ursprung $O(0/0)$, die mathematisch durch Multiplikation mit einer Rotationsmatrix $\\mathbf{R}$ beschrieben werden kann:\n",
    "\n",
    "$$\n",
    "\\underbrace{\n",
    "\\left[\n",
    "\t\\begin{array}{cc}\n",
    "\t\t \\cos{\\alpha} & -\\sin{\\alpha} \\\\\n",
    "\t\t \\sin{\\alpha} &  \\cos{\\alpha} \\\\\n",
    "\t\\end{array}\n",
    "\\right]\n",
    "}_{\\displaystyle \\mathbf{R}}\n",
    "\\cdot\n",
    "\\left[\n",
    "\t\\begin{array}{c}\n",
    "\t\t x\\\\\n",
    "\t\t y\\\\\n",
    "\t\\end{array}\n",
    "\\right]\n",
    "=\n",
    "\\left[\n",
    "\t\\begin{array}{c}\n",
    "\t\t x \\cos{\\alpha} - y \\sin{\\alpha} \\\\\n",
    "\t\t x \\sin{\\alpha} + y \\cos{\\alpha} \\\\\n",
    "\t\\end{array}\n",
    "\\right].\n",
    "$$\n",
    "\n",
    "Dabei ist jedoch zu beachten, dass diese Matrixmultiplikation eine Rotation in mathematisch positiver Richtung, also gegen den Uhrzeigersinn, erzeugt.\n",
    "Die Koordinaten der Punkte der rotierten Grafik können durch eine einzige Matrixmultiplikation berechnet werden.\n",
    "Dazu fasst man alle $x$- und $y$-Koordinaten der Punkte der ursprünglichen Grafik in einer Matrix $\\mathbf{XY}$ zusammen:\n",
    "\n",
    "$$\n",
    "\t\\mathbf{XY} = \n",
    "\t\\left[\n",
    "\t\t\\begin{array}{llllll}\n",
    "\t\t\tx_1 & x_2 & \\ldots & \\verb+np.nan+ & \\ldots & x_n\\\\\n",
    "\t\t\ty_1 & y_2 & \\ldots & \\verb+np.nan+ & \\ldots & y_n\\\\\n",
    "\t\t\\end{array}\n",
    "\t\\right]\n",
    "\t\\quad \\Longrightarrow \\quad\n",
    "\t\\mathbf{R} \\cdot \\mathbf{XY}.\n",
    "$$\n",
    "\n",
    "Um zusätzliche ungewollte Verbindungslinien zu vermeiden, kann man auch hier wieder den Trick mit `numpy.nan` verwenden."
   ]
  },
  {
   "cell_type": "code",
   "execution_count": null,
   "metadata": {},
   "outputs": [],
   "source": [
    "IFrame('car5.png', width=600, height=330)"
   ]
  },
  {
   "cell_type": "markdown",
   "metadata": {},
   "source": [
    "<div class=\"alert alert-block alert-danger\">\n",
    "    \n",
    "<b>Merke</b>\n",
    "    \n",
    "In `numpy` können Felder durch die Funktion `concatenate()` zusammengefügt werden.\n",
    "    \n",
    "- https://numpy.org/doc/stable/reference/generated/numpy.concatenate.html\n",
    "    \n",
    "</div>"
   ]
  },
  {
   "cell_type": "markdown",
   "metadata": {},
   "source": [
    "<div class=\"alert alert-block alert-info\">\n",
    "    \n",
    "### Aufgabe 5\n",
    "\n",
    "Ergänzen Sie die Grafik durch das rotierte Fahrzeug.\n",
    "</div>"
   ]
  },
  {
   "cell_type": "code",
   "execution_count": null,
   "metadata": {},
   "outputs": [],
   "source": [
    "FILLER = np.array([np.nan])\n",
    "CAR_X = np.concatenate((BOTTOM_X, FILLER, FRONTWHEEL_X, FILLER, REARWHEEL_X, FILLER, ROOF_X, FILLER, BODY_X))\n",
    "CAR_Y = np.concatenate((BOTTOM_Y, FILLER, FRONTWHEEL_Y, FILLER, REARWHEEL_Y, FILLER, ROOF_Y, FILLER, BODY_Y))\n",
    "\n",
    "CAR = np.array([CAR_X,CAR_Y]) #array of all the previous plots with \"Not a Number\" between the entries so there is no unfavourable connections\n",
    "\n",
    "R = np.array([[np.cos(-np.pi/6), -np.sin(-np.pi/6)], #transformation matrix with the angle -30° or -pi/6 due to the rotation occuring anti-clockwise\n",
    "              [np.sin(-np.pi/6), np.cos(-np.pi/6)]])\n",
    "\n",
    "T = np.dot(R, CAR) #matrix multiplication\n",
    "\n",
    "ax.plot(T[0,:], T[1,:], '--r') #'--r' for the dotted red line\n",
    "\n",
    "display(fig)"
   ]
  },
  {
   "cell_type": "markdown",
   "metadata": {},
   "source": [
    "### 4.7 Zusatzaufgabe\n",
    "Das Lösen der Zusatzaufgabe erfordert fundierte Kenntnisse im Umgang mit Python.\n",
    "Die Zusatzaufgabe ist nur für diejenigen gedacht, die aus eigenem Interesse tiefer in die Materie einsteigen wollen!"
   ]
  },
  {
   "cell_type": "code",
   "execution_count": null,
   "metadata": {},
   "outputs": [],
   "source": [
    "if 'google.colab' in str(get_ipython()):\n",
    "    print('IFrame() does not work with Google Colab')\n",
    "else:\n",
    "    display(IFrame('car.gif', width=600, height=600))"
   ]
  },
  {
   "cell_type": "markdown",
   "metadata": {},
   "source": [
    "<div class=\"alert alert-block alert-info\">\n",
    "    \n",
    "### Zusatzaufgabe\n",
    "\n",
    "Erstellen Sie eine Animation, bei der die Grafik des Autos um den Ursprung in kleinen Schritten rotiert.   \n",
    "</div>"
   ]
  },
  {
   "cell_type": "code",
   "execution_count": null,
   "metadata": {},
   "outputs": [],
   "source": [
    "import matplotlib.animation\n",
    "from IPython.display import HTML"
   ]
  },
  {
   "cell_type": "code",
   "execution_count": null,
   "metadata": {},
   "outputs": [],
   "source": [
    "#\n",
    "# Ergänzen Sie bitte hier die Python Befehle für die Zusatzaufgabe!\n",
    "#\n",
    "\n",
    "\n",
    "\n",
    "\n",
    "\n",
    "\n",
    "\n",
    "\n",
    "\n",
    "\n",
    "\n",
    "\n",
    "\n",
    "\n",
    "\n",
    "\n",
    "\n",
    "\n",
    "\n",
    "\n",
    "\n",
    "\n",
    "\n",
    "\n",
    "\n",
    "\n",
    "\n",
    "\n",
    "\n"
   ]
  }
 ],
 "metadata": {
  "kernelspec": {
   "display_name": "Python 3 (ipykernel)",
   "language": "python",
   "name": "python3"
  },
  "language_info": {
   "codemirror_mode": {
    "name": "ipython",
    "version": 3
   },
   "file_extension": ".py",
   "mimetype": "text/x-python",
   "name": "python",
   "nbconvert_exporter": "python",
   "pygments_lexer": "ipython3",
   "version": "3.11.5"
  }
 },
 "nbformat": 4,
 "nbformat_minor": 4
}
