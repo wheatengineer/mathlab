{
 "cells": [
  {
   "cell_type": "markdown",
   "metadata": {},
   "source": [
    "<h1>Projekt Swingboat</h1>"
   ]
  },
  {
   "cell_type": "markdown",
   "metadata": {},
   "source": [
    "## 1 Lernziele\n",
    "Die Studierenden lernen\n",
    "- eine Schiffschaukel durch ein physikalisches Modell mathematisch zu beschreiben\n",
    "- exakte Lösungen von Schwingungsdifferenzialgleichungen zu berechnen\n",
    "- Näherungslösungen für Differenzialgleichungen mit dem Polygonzugverfahren von Euler zu berechnen\n",
    "- Schaubilder für Lösungen von Differenzialgleichungen zu erstellen\n",
    "- Animationen zu erstellen, die den Bewegungsablauf in Echtzeit simulieren "
   ]
  },
  {
   "cell_type": "markdown",
   "metadata": {},
   "source": [
    "## 2 Bibliotheken\n",
    "Eines der Grundkonzepte von Python ist die Verwendung spezieller Bibliotheken für spezielle Aufgaben.\n",
    "Für Berechnungen mit Vektoren und Matrizen wird meistens die Bibliothek `numpy` verwendet und für Grafiken die Bibliothek `matplotlib`.\n",
    "Die Bibliothek `numpy` und das API `pyplot` der `matplotlib` orientieren sich an der Syntax von Matlab.\n",
    "Für `pyplot` ist die Abkürzung `plt` und für `numpy` die Abkürzung `np` üblich."
   ]
  },
  {
   "cell_type": "code",
   "execution_count": 1,
   "metadata": {},
   "outputs": [],
   "source": [
    "import numpy as np\n",
    "import matplotlib.pyplot as plt"
   ]
  },
  {
   "cell_type": "markdown",
   "metadata": {},
   "source": [
    "Die Funktion `IFrame()` wird zum Anzeigen von Grafiken aus Dateien verwendet."
   ]
  },
  {
   "cell_type": "code",
   "execution_count": 2,
   "metadata": {},
   "outputs": [],
   "source": [
    "from IPython.display import IFrame, HTML"
   ]
  },
  {
   "cell_type": "markdown",
   "metadata": {},
   "source": [
    "Für symbolische Berechnungen steht die Bibliothek `sympy` zur Verfügung."
   ]
  },
  {
   "cell_type": "code",
   "execution_count": 3,
   "metadata": {},
   "outputs": [],
   "source": [
    "import sympy as sp\n",
    "sp.init_printing()"
   ]
  },
  {
   "cell_type": "markdown",
   "metadata": {},
   "source": [
    "## 3 Aufgabenstellung\n",
    "Die Abbildung zeigt die Skizze einer Schiffschaukel."
   ]
  },
  {
   "cell_type": "code",
   "execution_count": 4,
   "metadata": {},
   "outputs": [
    {
     "data": {
      "text/html": [
       "\n",
       "        <iframe\n",
       "            width=\"261.25\"\n",
       "            height=\"210.75\"\n",
       "            src=\"swingboat_fig_1.png\"\n",
       "            frameborder=\"0\"\n",
       "            allowfullscreen\n",
       "            \n",
       "        ></iframe>\n",
       "        "
      ],
      "text/plain": [
       "<IPython.lib.display.IFrame at 0x1d3900e2d10>"
      ]
     },
     "execution_count": 4,
     "metadata": {},
     "output_type": "execute_result"
    }
   ],
   "source": [
    "IFrame('swingboat_fig_1.png', width=1045/4, height=843/4)"
   ]
  },
  {
   "cell_type": "markdown",
   "metadata": {},
   "source": [
    "Die Schaukel in Form eines Schiffchens ist drehbar an einem Gestell befestigt, so dass Schwingbewegungen und sogar Überschläge möglich sind.\n",
    "\n",
    "Bei Fahrgeschäften auf Volksfesten erfolgt der Antrieb häufig durch Muskelkraft und Schwerpunktsverlagerung.\n",
    "Wir wollen in diesem Projekt jedoch nur Bewegungen untersuchen, die durch eine initiale Auslenkung und eine initiale Geschwindigkeit ausgelöst werden.\n",
    "\n",
    "Reibungseffekte und Luftwiderstand führen dazu, dass die Schaukelbewegungen im Laufe der Zeit abklingen.\n",
    "\n",
    "Die Aufgabenstellung besteht darin, für die Bewegung der Schiffschaukel ein mathematisches Modell zu entwickeln und die Bewegung zu simulieren."
   ]
  },
  {
   "cell_type": "markdown",
   "metadata": {},
   "source": [
    "## 4 Mathematisches Modell\n",
    "Bei einem idealisierten Pendelmodell betrachtet man eine punktförmige Masse $m$, die im Abstand $l$ vom Drehpunkt $D$, durch eine masselose Stange befestigt ist.\n",
    "Auf die Masse wirkt die Erdanziehungskraft mit Erdbeschleunigung $g$.\n",
    "Oft spricht man in diesem Zusammenhang von einem mathematischen Pendel."
   ]
  },
  {
   "cell_type": "code",
   "execution_count": 5,
   "metadata": {},
   "outputs": [
    {
     "data": {
      "text/html": [
       "\n",
       "        <iframe\n",
       "            width=\"305.3333333333333\"\n",
       "            height=\"246.66666666666666\"\n",
       "            src=\"swingboat_fig_2.png\"\n",
       "            frameborder=\"0\"\n",
       "            allowfullscreen\n",
       "            \n",
       "        ></iframe>\n",
       "        "
      ],
      "text/plain": [
       "<IPython.lib.display.IFrame at 0x1d39044e510>"
      ]
     },
     "execution_count": 5,
     "metadata": {},
     "output_type": "execute_result"
    }
   ],
   "source": [
    "IFrame('swingboat_fig_2.png', width=916/3, height=740/3)"
   ]
  },
  {
   "cell_type": "markdown",
   "metadata": {},
   "source": [
    "Wir betrachten nur den Spezialfall eines Kreispendels, bei dem Bewegungen nur innerhalb einer Ebene stattfinden.\n",
    "Der allgemeine Fall, mit Bewegungen in alle Raumrichtungen, bezeichnet man als Kugelpendel.\n",
    "\n",
    "Der zeitliche Verlauf der Bewegung lässt sich durch den Auslenkungswinkel $\\varphi(t)$ beschreiben.\n",
    "Der Auslenkungswinkel wird bezüglich der Ruhelage gemessen, wobei Auslenkungen gegen den Uhrzeigersinn, also in mathematisch positiver Richtung, mit positiven Winkeln und Auslenkungen im Uhrzeigersinn mit negativen Winkeln angegeben werden.\n",
    "\n",
    "Es gibt verschiedene Möglichkeiten, Gleichungen für die Bewegung des mathematischen Pendels herzuleiten.\n",
    "Wir betrachten die wirkenden Kräfte und verwenden das zweite Newtonsche Axiom."
   ]
  },
  {
   "cell_type": "markdown",
   "metadata": {},
   "source": [
    "### 4.1 Gewichtskraft\n",
    "Die Erdbeschleunigung $g$ erzeugt bei der Masse $m$ eine Gewichtskraft\n",
    "\n",
    "$$\n",
    "\t\\left| \\vec{F}_{\\mbox{g}} \\right| = m \\, g \\, .\n",
    "$$\n",
    "\n",
    "Die Gewichtskraft $\\vec{F}_{\\mbox{g}}$ wirkt senkrecht nach unten und besitzt eine\n",
    "radiale Komponente $F_{\\mbox{rad}}$ und eine tangentiale Komponente $F_{\\mbox{tan}}$.\n",
    "Für die Bewegung der Masse spielt die radiale Komponente keine Rolle, da sie von der Befestigung der Masse kompensiert wird.\n",
    "Die tangentiale Komponente $F_{\\mbox{tan}}$ erzeugt bei der Auslenkung um den Winkel $\\varphi(t)$ eine Rückstellkraft.\n",
    "Diese Rückstellkraft wirkt in entgegengesetzter Richtung zu der Bewegungsrichtung und verändert sich mit der Zeit:\n",
    "\n",
    "$$\n",
    "\tF_{\\mbox{tan}}(t) = - m \\, g \\, \\sin (\\varphi(t)) \\, .\n",
    "$$\n",
    "\n",
    "### 4.2 Reibung\n",
    "Die genaue Untersuchung von Reibungseffekten ist ein schwieriges Thema.\n",
    "Wir betrachten ein vereinfachtes Modell für die Reibung, das sich für das mathematische Pendel bewährt hat.\n",
    "Dabei gehen wir davon aus, dass die Reibung im wesentlichen negativ proportional zu der Geschwindigkeit der Masse ist:\n",
    "\n",
    "$$\n",
    "\tF_{\\mbox{fric}}(t) = -k \\, v(t) \\, .\n",
    "$$\n",
    "\n",
    "Dabei ist $k$ eine Konstante mit der Einheit $\\frac{\\mbox{kg}}{\\mbox{s}}$.\n",
    "Die Masse $m$ bewegt sich auf einer kreisförmigen Bahn.\n",
    "Dem Auslenkungswinkel $\\varphi(t)$ entspricht dabei ein Kreisbogen der Länge:\n",
    "\n",
    "$$\n",
    "\ts(t) = l \\, \\varphi(t) \\, .\n",
    "$$\n",
    "\n",
    "Somit ist die Geschwindigkeit der Masse proportional zur Winkelgeschwindigkeit\n",
    "$\\omega(t)$:\n",
    "\n",
    "$$\n",
    "\tv(t) = \\dot{s}(t) = l \\, \\dot{\\varphi}(t) = l \\, \\omega(t) \n",
    "$$\n",
    "\n",
    "und für die Reibungskraft gilt:\n",
    "\n",
    "$$\n",
    "\tF_{\\mbox{fric}}(t) = -k \\, l \\, \\dot{\\varphi}(t) \\, .\n",
    "$$\n",
    "\n",
    "### 4.3 Zweites Newtonsches Axiom\n",
    "Aus dem zweiten Newtonschen Axiom folgt, dass die Summe der wirkenden Kräfte bei einer beschleunigten Bewegung durch die Trägheitskraft kompensiert werden.\n",
    "In unserem Fall bedeutet das:\n",
    "\n",
    "$$\n",
    "\tF_{\\mbox{tan}}(t) + F_{\\mbox{fric}}(t) = m \\, a(t) \\, .\n",
    "$$\n",
    "\n",
    "Die Beschleunigung ergibt sich aus der Geschwindigkeit\n",
    "\n",
    "$$\n",
    "\ta(t) = \\dot{v}(t) = l \\, \\ddot{\\varphi}(t) = l \\, \\dot{\\omega}(t) \\, ,\n",
    "$$\n",
    "\n",
    "wodurch wir insgesamt die Bewegungsgleichung   \n",
    "\n",
    "$$\n",
    "\tm \\, l \\, \\ddot{\\varphi}(t) + k \\, l \\, \\dot{\\varphi}(t) + m \\, g \\, \\sin (\\varphi(t)) = 0\n",
    "$$\n",
    "\n",
    "erhalten.\n",
    "Dabei handelt es sich um eine nicht lineare Differenzialgleichung zweiter Ordnung für die gesuchte Funktion $\\varphi(t)$. \n",
    "Insgesamt lässt sich die Bewegung durch das Anfangswertproblem\n",
    "\n",
    "\\begin{equation}\n",
    "\tm \\, l \\ddot{\\varphi}(t) + k \\, l \\, \\dot{\\varphi}(t) + m \\, g \\, \\sin \\left(\\varphi(t)\\right) = 0,\n",
    "\t\\quad \\varphi(0) = \\varphi_0,\n",
    "\t\\quad \\dot{\\varphi}(0) = \\dot{\\varphi}_0\n",
    "   \\label{EquationOfMotion}\n",
    "\\end{equation}\n",
    "\n",
    "beschreiben, wobei $\\varphi_0$ die Auslenkung und $\\dot{\\varphi}_0$ die Winkelgeschwindigkeit zum Startzeitpunkt $t_0=0$ bezeichnen."
   ]
  },
  {
   "cell_type": "markdown",
   "metadata": {},
   "source": [
    "## 5 Vorgehensweise\n",
    "Die Vorgehensweise kann in den folgenden Schritten erfolgen:\n",
    "- Exakte Lösung der linearisierten Differenzialgleichung\n",
    "- Näherungslösungen mit dem Polygonzugverfahren von Euler\n",
    "- Simulation und Animation in Echtzeit"
   ]
  },
  {
   "cell_type": "markdown",
   "metadata": {},
   "source": [
    "### 5.1 Exakte Lösung der linearisierten Differenzialgleichung\n",
    "Die Differenzialgleichung des Anfangswertproblems $\\eqref{EquationOfMotion}$ ist nicht linear und somit nicht einfach analytisch lösbar.\n",
    "Die Nichtlinearität wird durch den Ausdruck $\\sin \\left(\\varphi(t)\\right)$ verursacht.\n",
    "Wenn wir nur Bewegungen mit kleinen Auslenkungswinkeln $\\varphi$ betrachten, dann können wir die Näherung\n",
    "\n",
    "$$\n",
    "\t\\sin(\\varphi) \\approx \\varphi\n",
    "$$\n",
    "\n",
    "verwenden und erhalten ein Anfangswertproblem mit einer linearen Differenzialgleichung:\n",
    "\n",
    "\\begin{equation}\n",
    "\tm \\, l \\ddot{\\varphi}(t) + k \\, l \\, \\dot{\\varphi}(t) + m \\, g \\, \\varphi(t) = 0,\n",
    "\t\\quad \\varphi(0) = \\varphi_0,\n",
    "\t\\quad \\dot{\\varphi}(0) = \\dot{\\varphi}_0 \\, .\n",
    "   \\label{EquationOfMotionLinear}\n",
    "\\end{equation}"
   ]
  },
  {
   "cell_type": "markdown",
   "metadata": {},
   "source": [
    "Für die Erdbeschleunigung wählen wir $g = 9.81 \\, \\frac{\\mbox{m}}{\\mbox{s}^2}$, für die Masse $m = 100 \\, \\mbox{kg}$, für die Länge $l = 2 \\, \\mbox{m}$ und für die Reibung $k = 25 \\, \\frac{\\mbox{kg}}{\\mbox{s}}$ "
   ]
  },
  {
   "cell_type": "code",
   "execution_count": 6,
   "metadata": {},
   "outputs": [],
   "source": [
    "# Erdbeschleunigung [m/s^2] \n",
    "g = 9.81 \n",
    "\n",
    "# Masse [kg]\n",
    "m = 100.0\n",
    "\n",
    "# Länge des Pendels [m]\n",
    "l = 2.0\n",
    "\n",
    "# Reibung [kg/s]\n",
    "k = 25.0"
   ]
  },
  {
   "cell_type": "markdown",
   "metadata": {},
   "source": [
    "Bei den Anfangswerten müssen wir beachten, dass wir die linearisierte Differenzialgleichung nur für kleine Winkel verwenden können.\n",
    "Wir wählen die Anfangsauslenkung $\\varphi_0=0.1$, die Anfangsgeschwindigkeit $\\dot{\\varphi}_0 = 0$ und betrachten die Bewegung für eine Zeitdauer von $30$ Sekunden."
   ]
  },
  {
   "cell_type": "code",
   "execution_count": 7,
   "metadata": {},
   "outputs": [],
   "source": [
    "# Anfangsauslenkung\n",
    "phi_0 = 0.1 \n",
    "\n",
    "# Anfangsgeschwindigkeit\n",
    "dotphi_0 = 0.0\n",
    "\n",
    "# Zeitintervall\n",
    "t0, t1 = 0.0, 30.0"
   ]
  },
  {
   "cell_type": "markdown",
   "metadata": {},
   "source": [
    "<div class=\"alert alert-block alert-danger\">\n",
    "    \n",
    "<b>Merke</b>\n",
    "    \n",
    "Informationen zum symbolischen Lösen von Differenzialgleichungen mit Python finden Sie in dem Jupyter Notebook `sympy_ode.ipynb` im Moodle-Kurs Python unter der Rubrik `Examples`. \n",
    "    \n",
    "</div>"
   ]
  },
  {
   "cell_type": "markdown",
   "metadata": {},
   "source": [
    "<div class=\"alert alert-block alert-info\">\n",
    "    \n",
    "### Aufgabe 1\n",
    "\n",
    "Bestimmen Sie die Lösung des Anfangswertproblems mit der linearisierten Differenzialgleichung und erstellen Sie ein Schaubild der Lösung.\n",
    "</div>"
   ]
  },
  {
   "cell_type": "code",
   "execution_count": 8,
   "metadata": {},
   "outputs": [
    {
     "data": {
      "image/png": "[encoded data removed]",
      "text/latex": [
       "$\\displaystyle \\phi{\\left(t \\right)} = \\left(0.00565305667096743 \\sin{\\left(2.21119311684891 t \\right)} + 0.1 \\cos{\\left(2.21119311684891 t \\right)}\\right) e^{- 0.125 t}$"
      ],
      "text/plain": [
       "                                                                              \n",
       "φ(t) = (0.00565305667096743⋅sin(2.21119311684891⋅t) + 0.1⋅cos(2.21119311684891\n",
       "\n",
       "      -0.125⋅t\n",
       "⋅t))⋅ℯ        "
      ]
     },
     "execution_count": 8,
     "metadata": {},
     "output_type": "execute_result"
    }
   ],
   "source": [
    "t = sp.Symbol('t')\n",
    "phi = sp.Function('phi')(t)\n",
    "\n",
    "phip = sp.Derivative(phi)\n",
    "phipp = sp.Derivative(phip)\n",
    "\n",
    "ode = sp.Eq(m*l*phipp+k*l*phip+m*g*phi,0)\n",
    "initconds = {phi.subs(t, 0): 0.1, phip.subs(t, 0): 0}\n",
    "\n",
    "sp.dsolve(ode, ics=initconds)"
   ]
  },
  {
   "cell_type": "markdown",
   "metadata": {},
   "source": [
    "### 5.2 Näherungslösungen mit dem Polygonzugverfahren von Euler\n",
    "Mit dem Polygonzugverfahren von Euler kann man numerische Näherungslösungen für das Anfangswertproblem $\\eqref{EquationOfMotion}$ berechnen.\n",
    "Die Nichtlinearität der Differenzialgleichung spielt dabei keine Rolle.\n",
    "Somit können wir die numerischen Berechnungen auch für große Winkel und sogar für Überschläge der Schiffschaukel verwenden.\n",
    "Dazu wählen wir jetzt die Anfangsgeschwindigkeit entsprechend groß: "
   ]
  },
  {
   "cell_type": "code",
   "execution_count": 9,
   "metadata": {},
   "outputs": [],
   "source": [
    "# Anfangsgeschwindigkeit\n",
    "dotphi_0 = 5.0"
   ]
  },
  {
   "cell_type": "markdown",
   "metadata": {},
   "source": [
    "<div class=\"alert alert-block alert-danger\">\n",
    "    \n",
    "<b>Merke</b>\n",
    "    \n",
    "Informationen zum berechnen numerischer Näherungslösungen von Differenzialgleichungen mit Python finden Sie in dem Jupyter Notebook `euler.ipynb` im Moodle-Kurs Python unter der Rubrik `Examples`. \n",
    "    \n",
    "</div>"
   ]
  },
  {
   "cell_type": "markdown",
   "metadata": {},
   "source": [
    "Das Polygonzugverfahren von Euler funktioniert nur für Differenzialgleichungen oder Differenzialgleichungssysteme erster Ordnung.\n",
    "Deshalb formulieren wir die Differenzialgleichung zweiter Ordnung aus dem Anfangswertproblem mithilfe von zwei Zustandsgrößen\n",
    "$z_0(t) = \\varphi(t)$\n",
    "und\n",
    "$z_1(t) = \\dot{\\varphi}(t)$\n",
    "als System erster Ordnung: \n",
    "\n",
    "$$\n",
    "\t\\begin{array}{lcl}\n",
    "\t\t\\dot{z}_0(t) & = & z_1(t),\\\\ \n",
    "\t\t\\dot{z}_1(t) & = & - \\frac{k}{m} \\, z_1(t) - \\frac{g}{l} \\, \\sin \\left(z_0(t)\\right).\\\\ \n",
    "\t\\end{array}\n",
    "$$\n",
    "\n",
    "Dieses Differenzialgleichungssystem realisieren wir als Funktion `swingBoatOde(...)`.\n",
    "Obwohl die Berechnung der Ableitung der Zustandsgrößen $\\dot{z}_0(t)$ und $\\dot{z}_1(t)$ in unserem Fall gar nicht explizit von der Zeit $t$ abhängt, ist es üblich, der Funktion als erstes Eingabeargument die Zeit $t$ zu übergeben.\n",
    "Das zweite Eingabeargument $z$ ist ein Vektor mit den beiden Zustandsgrößen $z_0(t)$ und $z_1(t)$.\n",
    "Die Ausgabe besteht aus einem Vektor mit den Ableitungen der beiden Zustandsgrößen."
   ]
  },
  {
   "cell_type": "code",
   "execution_count": 17,
   "metadata": {},
   "outputs": [],
   "source": [
    "def swingBoatOde(t,z):\n",
    "    zp = np.array([z[0], -(k/m)*z[1]-(g/l)*np.sin(z[0])])\n",
    "    return zp"
   ]
  },
  {
   "cell_type": "markdown",
   "metadata": {},
   "source": [
    "Das Polygonzugverfahren von Euler realisieren wir als Funktion `swingBoatEuler(...)`.\n",
    "Das Polygonzugverfahren berechnet, ausgehend von den Startwerten zum Startzeitpunkt, Schritt für Schritt neue Werte.\n",
    "Die Schrittweite $h$ sollte möglichst optimal gewählt werden.\n",
    "Bei einer großen Schrittweite sind die Näherungswerte ungenau.\n",
    "Eine kleine Schrittweite führt zu langen Rechenzeiten.\n",
    "Die Schrittweite übergeben wir der Funktion `swingBoatEuler(...)` als Eingabeargument. Damit können unterschiedliche Schrittweiten einfach ausprobiert werden.\n",
    "Die Ausgabe der Funktion besteht aus den $t$-Werten, wobei die Differenz aufeinanderfolgende $t$-Werte jeweils der Schrittweite $h$ entspricht.\n",
    "Außerdem werden zu jedem $t$-Wert die Werte der beiden Zustandsgrößen $z_0(t)$ und $z_1(t)$ als Ausgabewerte zurück gegeben."
   ]
  },
  {
   "cell_type": "code",
   "execution_count": 18,
   "metadata": {},
   "outputs": [],
   "source": [
    "def swingBoatEuler(t0, t1 , h, z0):\n",
    "    n = int((t1-t0)/h)\n",
    "    t = np.linspace(t0,t1,n+1)\n",
    "    z = np.zeros([len(z0),n+1])\n",
    "    z[:,0] = z0\n",
    "    for u in range(n):\n",
    "        z[:,u+1] = z[:,u]+h*swingBoatOde(t[u],z[:,u])\n",
    "    return t, z"
   ]
  },
  {
   "cell_type": "markdown",
   "metadata": {},
   "source": [
    "<div class=\"alert alert-block alert-info\">\n",
    "    \n",
    "### Aufgabe 2\n",
    "\n",
    "Implementierten Sie die beiden Funktionen `swingBoatOde(...)` und `swingBoatEuler(...)`.\n",
    "Berechnen Sie mit diesen Funktionen numerische Näherungswerte mit dem Polygonzugverfahren von Euler für das Anfangswertproblem und erstellen Sie ein Schaubild der Lösung.\n",
    "Ermitteln Sie experimentell eine möglichst optimale Schrittweite.\n",
    "</div>"
   ]
  },
  {
   "cell_type": "code",
   "execution_count": 19,
   "metadata": {},
   "outputs": [],
   "source": [
    "z0 = np.array([0.1,5.0]) # phi_0 und dotphi_0 als array\n",
    "h = 0.05 #beliebige Schrittweite\n",
    "\n",
    "t, z = swingBoatEuler(t0, t1, h, z0)"
   ]
  },
  {
   "cell_type": "markdown",
   "metadata": {},
   "source": [
    "### 5.3 Simulation und Animation in Echtzeit\n",
    "Für die Animation der Schiffschaukel benötigen wir eine Visualisierung.\n",
    "Grundplatte und Gestell der Schiffschaukel bleiben fest, das Schiffchen und die Person werden rotiert. "
   ]
  },
  {
   "cell_type": "code",
   "execution_count": 20,
   "metadata": {},
   "outputs": [],
   "source": [
    "def swingBoatDraw(phi):\n",
    "\n",
    "    # clear figure\n",
    "    fig.clf()\n",
    "    \n",
    "    # get axis of figure\n",
    "    ax = fig.gca()\n",
    "    \n",
    "    # set axis properties\n",
    "    ax.axis('equal')\n",
    "    ax.axis('off')\n",
    "    ax.axis([-3.0, 3.0, -3.2, 3.0])\n",
    "    \n",
    "    # Rotationsmatrix\n",
    "    R = np.array([[np.cos(phi),-np.sin(phi)],[np.sin(phi),np.cos(phi)]])\n",
    " \n",
    "    # Grundplatte der Schiffschaukel (ohne Rotation)\n",
    "    ground = np.array([[-2.0,  2.0,  2.0, -2.0, -2.0],\n",
    "                       [-3.2, -3.2, -3.0, -3.0, -3.2]])\n",
    "    ax.fill(ground[0],ground[1],'darkgray')\n",
    "\n",
    "    # Gestell der Schiffschaukel (ohne Rotation)\n",
    "    frame = np.array([[-1.5, 0.0,  1.5, np.nan, -1.0,  1.0],\n",
    "                      [-3.0, 0.0, -3.0, np.nan, -2.0, -2.0]])\n",
    "    ax.plot(frame[0],frame[1],'b',linewidth=5)\n",
    "    \n",
    "    # Schiffchen der Schiffschaukel (mit Rotation)\n",
    "    boat = R@np.array([[ 0.5,  0.8, -0.8, -0.5,  0.5, np.nan, -0.4, 0.0,  0.4],\n",
    "                       [-2.8, -2.3, -2.3, -2.8, -2.8, np.nan, -2.3, 0.0, -2.3]])\n",
    "    ax.plot(boat[0],boat[1],'r',linewidth=3)\n",
    "    \n",
    "    # Kopf der Person (mit Rotation)\n",
    "    tt = np.linspace(0.0,2.0*np.pi,20)\n",
    "    head = R@np.array([0.13*np.cos(tt),-1.1+0.13*np.sin(tt)])\n",
    "    ax.plot(head[0],head[1],'k',linewidth=3)\n",
    "\n",
    "    # Körper der Person (mit Rotation)\n",
    "    body = R@np.array([[np.nan,   0.0,  0.0,  0.2,  0.2, np.nan,  0.0,  0.1,  0.2],\n",
    "                       [np.nan, -1.23, -2.0, -2.4, -2.8, np.nan, -1.4, -1.7, -1.3]])\n",
    "    ax.plot(body[0],body[1],'k',linewidth=3)"
   ]
  },
  {
   "cell_type": "code",
   "execution_count": 21,
   "metadata": {},
   "outputs": [
    {
     "data": {
      "image/png": "[encoded data removed]",
      "text/plain": [
       "<Figure size 600x620 with 1 Axes>"
      ]
     },
     "metadata": {},
     "output_type": "display_data"
    }
   ],
   "source": [
    "#\n",
    "# Figure\n",
    "#\n",
    "fig, ax = plt.subplots(figsize=(6.0,6.2))\n",
    "swingBoatDraw(0.1)"
   ]
  },
  {
   "cell_type": "markdown",
   "metadata": {},
   "source": [
    "<div class=\"alert alert-block alert-info\">\n",
    "    \n",
    "### Zusatzaufgabe\n",
    "\n",
    "Erstellen Sie eine Animation, die die Schiffschaukel in Echtzeit simuliert.   \n",
    "</div>"
   ]
  },
  {
   "cell_type": "markdown",
   "metadata": {},
   "source": [
    "<div class=\"alert alert-block alert-danger\">\n",
    "    \n",
    "<b>Merke</b>\n",
    "    \n",
    "Informationen zu Animationen mit Python finden Sie in dem Jupyter Notebook `animation.ipynb` im Moodle-Kurs Python unter der Rubrik `Examples`. \n",
    "    \n",
    "</div>"
   ]
  },
  {
   "cell_type": "code",
   "execution_count": null,
   "metadata": {},
   "outputs": [],
   "source": [
    "if 'google.colab' in str(get_ipython()):\n",
    "    print('IFrame() does not work with Google Colab')\n",
    "else:\n",
    "    display(IFrame('swingboat.gif', width=864/2, height=892/2))"
   ]
  },
  {
   "cell_type": "markdown",
   "metadata": {},
   "source": [
    "Das Lösen der Zusatzaufgabe erfordert fundierte Kenntnisse im Umgang mit Python.\n",
    "Die Zusatzaufgabe ist nur für diejenigen gedacht, die aus eigenem Interesse tiefer in die Materie einsteigen wollen!"
   ]
  },
  {
   "cell_type": "markdown",
   "metadata": {},
   "source": [
    "Um verlässliche Näherungswerte mit dem Plygonzugverfahren von Euler zu berechnen benötigt man eine entsprechend kleine Schrittweite $h$.\n",
    "Dadurch werden sehr viele Näherunsgwerte mit sehr kurzen Zeitabständen erzeugt. \n",
    "Für eine effiziente Animation in Echtzeit genügt es, nur ein paar wenige Näherungswerte pro Sekunde zu betrachten."
   ]
  },
  {
   "cell_type": "code",
   "execution_count": null,
   "metadata": {},
   "outputs": [],
   "source": [
    "#\n",
    "# Ergänzen Sie bitte hier die Python Befehle für die Zusatzaufgabe!\n",
    "#\n",
    "import matplotlib.animation\n",
    "\n",
    "\n",
    "\n",
    "\n",
    "\n",
    "\n",
    "\n",
    "\n",
    "\n",
    "\n",
    "\n",
    "\n"
   ]
  },
  {
   "cell_type": "code",
   "execution_count": null,
   "metadata": {},
   "outputs": [],
   "source": []
  }
 ],
 "metadata": {
  "kernelspec": {
   "display_name": "Python 3 (ipykernel)",
   "language": "python",
   "name": "python3"
  },
  "language_info": {
   "codemirror_mode": {
    "name": "ipython",
    "version": 3
   },
   "file_extension": ".py",
   "mimetype": "text/x-python",
   "name": "python",
   "nbconvert_exporter": "python",
   "pygments_lexer": "ipython3",
   "version": "3.11.5"
  }
 },
 "nbformat": 4,
 "nbformat_minor": 2
}
